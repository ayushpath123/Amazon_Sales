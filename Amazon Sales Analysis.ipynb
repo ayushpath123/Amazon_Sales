{
 "cells": [
  {
   "cell_type": "markdown",
   "id": "3962525f",
   "metadata": {
    "direction": "ltr"
   },
   "source": [
    "### Importing Required Libraries:"
   ]
  },
  {
   "cell_type": "code",
   "execution_count": null,
   "id": "1f7f9a88",
   "metadata": {},
   "outputs": [],
   "source": [
    "import numpy as np\n",
    "import pandas as pd\n",
    "import seaborn as sns\n",
    "import matplotlib.pyplot as plt"
   ]
  },
  {
   "cell_type": "markdown",
   "id": "95e91f4c",
   "metadata": {},
   "source": [
    "### Importing the dataset:"
   ]
  },
  {
   "cell_type": "code",
   "execution_count": null,
   "id": "b8431bf4",
   "metadata": {},
   "outputs": [],
   "source": [
    "sales_data = pd.read_csv('da.csv', on_bad_lines='skip')\n",
    "sales_data"
   ]
  },
  {
   "cell_type": "code",
   "execution_count": null,
   "id": "fef91640",
   "metadata": {},
   "outputs": [],
   "source": [
    "# Checking the Shape\n",
    "sales_data.shape"
   ]
  },
  {
   "cell_type": "code",
   "execution_count": null,
   "id": "c4dae084",
   "metadata": {},
   "outputs": [],
   "source": [
    "sales_data.columns"
   ]
  },
  {
   "cell_type": "code",
   "execution_count": null,
   "id": "ad4685f9",
   "metadata": {
    "scrolled": true
   },
   "outputs": [],
   "source": [
    "sales_data.info()"
   ]
  },
  {
   "cell_type": "code",
   "execution_count": null,
   "id": "2c33df1b",
   "metadata": {
    "scrolled": true
   },
   "outputs": [],
   "source": [
    "# Checking no. of Null Values\n",
    "sales_data.isnull().sum()"
   ]
  },
  {
   "cell_type": "code",
   "execution_count": null,
   "id": "9e11d308",
   "metadata": {},
   "outputs": [],
   "source": [
    "sales_data01 = sales_data.copy()"
   ]
  },
  {
   "cell_type": "code",
   "execution_count": null,
   "id": "a9321a2a",
   "metadata": {},
   "outputs": [],
   "source": [
    "sales_data01.columns"
   ]
  },
  {
   "cell_type": "code",
   "execution_count": null,
   "id": "ba6137b0",
   "metadata": {},
   "outputs": [],
   "source": [
    "sales_data01['Item Class']"
   ]
  },
  {
   "cell_type": "code",
   "execution_count": null,
   "id": "b816471d",
   "metadata": {},
   "outputs": [],
   "source": [
    "sales_data01['Item Class'].value_counts()"
   ]
  },
  {
   "cell_type": "code",
   "execution_count": null,
   "id": "7abb915c",
   "metadata": {},
   "outputs": [],
   "source": [
    "# Removing Null Values\n",
    "sales_data01.dropna(subset=['Discount Amount','Sales Price', 'Item Number'],inplace=True)"
   ]
  },
  {
   "cell_type": "code",
   "execution_count": null,
   "id": "69c2edea",
   "metadata": {},
   "outputs": [],
   "source": [
    "# Generating descriptive statistics\n",
    "sales_data01.describe()"
   ]
  },
  {
   "cell_type": "code",
   "execution_count": null,
   "id": "2262cef1",
   "metadata": {},
   "outputs": [],
   "source": [
    "import pandas as pd\n",
    "\n",
    "# Ensure the 'Invoice Date' column is in datetime format\n",
    "sales_data01['Invoice Date'] = pd.to_datetime(sales_data01['Invoice Date'], errors='coerce')\n",
    "\n",
    "# Create Year, Month, Quarter, and Day columns\n",
    "sales_data01['Invoice_Year'] = sales_data01['Invoice Date'].dt.year\n",
    "sales_data01['Invoice_Month'] = sales_data01['Invoice Date'].dt.month\n",
    "sales_data01['Invoice_Quarter'] = sales_data01['Invoice Date'].dt.quarter\n",
    "sales_data01['Invoice_Day'] = sales_data01['Invoice Date'].dt.day\n",
    "\n",
    "# Verify the results by printing the first few rows\n",
    "print(sales_data01[['Invoice Date', 'Invoice_Year', 'Invoice_Month', 'Invoice_Quarter', 'Invoice_Day']].head())\n"
   ]
  },
  {
   "cell_type": "code",
   "execution_count": null,
   "id": "17844f5b",
   "metadata": {
    "scrolled": true
   },
   "outputs": [],
   "source": [
    "sales_data01.info()"
   ]
  },
  {
   "cell_type": "code",
   "execution_count": null,
   "id": "f8c48db3",
   "metadata": {},
   "outputs": [],
   "source": [
    "# Create a new DataFrame with the necessary columns\n",
    "sales_data02 = sales_data01[['Custkey', 'Item', 'Invoice Date', 'Invoice_Year', 'Invoice_Quarter', 'Invoice_Month', \n",
    "                             'Invoice_Day', 'Sales Quantity', 'Sales Amount Based on List Price', 'Discount Amount', \n",
    "                             'Sales Amount', 'Sales Margin Amount', 'Sales Cost Amount', 'Sales Rep', 'U/M', \n",
    "                             'List Price', 'Sales Price']]\n",
    "\n",
    "# Display the first few rows to verify the result\n",
    "print(sales_data02.head())\n"
   ]
  },
  {
   "cell_type": "code",
   "execution_count": null,
   "id": "b890de51",
   "metadata": {
    "scrolled": false
   },
   "outputs": [],
   "source": [
    "sales_data02.isnull().sum()"
   ]
  },
  {
   "cell_type": "code",
   "execution_count": null,
   "id": "68265e15",
   "metadata": {},
   "outputs": [],
   "source": [
    "# set style\n",
    "sns.set(style = 'darkgrid')"
   ]
  },
  {
   "cell_type": "code",
   "execution_count": null,
   "id": "2caf52e5",
   "metadata": {},
   "outputs": [],
   "source": [
    "DaySalesInsights = sales_data01.copy()\n",
    "DaySalesInsights['Invoice_Date'] = pd.to_datetime(sales_data01['Invoice Date']).dt.date"
   ]
  },
  {
   "cell_type": "code",
   "execution_count": null,
   "id": "a7ac4c46",
   "metadata": {},
   "outputs": [],
   "source": [
    "# Exclude 'Invoice Date' when summing to avoid datetime issues\n",
    "top10sales = DaySalesInsights.groupby('Invoice Date').sum(numeric_only=True).sort_values('Sales Amount', ascending=False)\n",
    "\n",
    "# Reset index and get the top 10 sales\n",
    "top10sales = top10sales.reset_index().head(10)\n",
    "\n",
    "# Check out the top 10 sales!\n",
    "print(top10sales)\n"
   ]
  },
  {
   "cell_type": "code",
   "execution_count": null,
   "id": "30198a80",
   "metadata": {},
   "outputs": [],
   "source": [
    "import matplotlib.pyplot as plt\n",
    "import seaborn as sns\n",
    "\n",
    "# Create the catplot with a single color\n",
    "sns.catplot(y='Sales Amount', x='Invoice Date', data=top10sales, aspect=2, color='blue', kind='bar')\n",
    "\n",
    "# Set the title\n",
    "plt.title('Top 10 Days When Sales Were Highest')\n",
    "\n",
    "# Display the plot\n",
    "plt.show()\n"
   ]
  },
  {
   "cell_type": "code",
   "execution_count": null,
   "id": "8f4acb71",
   "metadata": {},
   "outputs": [],
   "source": [
    "# Group by 'Invoice Date' and sum up sales margin amounts\n",
    "top10profits = DaySalesInsights.groupby('Invoice Date').sum(numeric_only=True).sort_values('Sales Margin Amount', ascending=False)\n",
    "\n",
    "# Reset index to make 'Invoice Date' a column again\n",
    "top10profits = top10profits.reset_index()\n",
    "\n",
    "# Get the top 10 days by 'Sales Margin Amount'\n",
    "top10profits = top10profits.head(10)\n",
    "\n",
    "# Display the result\n",
    "print(top10profits)\n"
   ]
  },
  {
   "cell_type": "code",
   "execution_count": null,
   "id": "79374722",
   "metadata": {},
   "outputs": [],
   "source": [
    "# Group by 'Invoice_Date' and sum up numeric values\n",
    "top10profits = DaySalesInsights.groupby('Invoice_Date').sum(numeric_only=True).sort_values('Sales Margin Amount', ascending=False)\n",
    "\n",
    "# Reset index to make 'Invoice_Date' a column again\n",
    "top10profits = top10profits.reset_index()\n",
    "\n",
    "# Get the top 10 days by 'Sales Margin Amount'\n",
    "top10profits = top10profits.head(10)\n",
    "\n",
    "# Display the result\n",
    "print(top10profits)\n"
   ]
  },
  {
   "cell_type": "code",
   "execution_count": null,
   "id": "939269da",
   "metadata": {},
   "outputs": [],
   "source": [
    "sns.catplot(y = 'Sales Margin Amount', x = 'Invoice_Date', data = top10profits, aspect = 2,color='blue',kind=\"bar\")\n",
    "plt.title('Top 10 Days When Profits Were Highest')\n",
    "top10profits[['Sales Margin Amount']]"
   ]
  },
  {
   "cell_type": "code",
   "execution_count": null,
   "id": "0c7a04f3",
   "metadata": {},
   "outputs": [],
   "source": [
    "# Group by 'Invoice_Date' and sum up numeric values\n",
    "highqty = DaySalesInsights.groupby('Invoice_Date').sum(numeric_only=True).sort_values('Sales Quantity', ascending=False)\n",
    "\n",
    "# Reset index to make 'Invoice_Date' a column again\n",
    "highqty = highqty.reset_index()\n",
    "\n",
    "# Get the top 10 days with the highest 'Sales Quantity'\n",
    "highqty = highqty.head(10)\n",
    "\n",
    "# Display the result\n",
    "print(highqty)\n"
   ]
  },
  {
   "cell_type": "code",
   "execution_count": null,
   "id": "9c9b34e2",
   "metadata": {},
   "outputs": [],
   "source": [
    "sns.catplot(y = 'Sales Quantity', x = 'Invoice_Date', data = highqty, aspect = 2,color='blue',kind=\"bar\")\n",
    "plt.title('Top 10 Days When Highest Quantity Of Items Were Sold')\n",
    "highqty[['Sales Quantity']]"
   ]
  },
  {
   "cell_type": "code",
   "execution_count": null,
   "id": "0e971806",
   "metadata": {},
   "outputs": [],
   "source": [
    "# Group by 'Invoice_Date' and count the number of occurrences of 'CustKey'\n",
    "MostCust = DaySalesInsights.groupby('Invoice_Date').size()\n",
    "\n",
    "# Convert Series to DataFrame\n",
    "MostCust = MostCust.reset_index(name='Customer_Count')\n",
    "\n",
    "# Sort the results by 'Customer_Count' in descending order\n",
    "MostCust = MostCust.sort_values('Customer_Count', ascending=False)\n",
    "\n",
    "# Get the top 10 days with the highest number of customers\n",
    "MostCust = MostCust.head(10)\n",
    "\n",
    "# Display the result\n",
    "print(MostCust)\n"
   ]
  },
  {
   "cell_type": "code",
   "execution_count": null,
   "id": "682528e4",
   "metadata": {},
   "outputs": [],
   "source": [
    "import seaborn as sns\n",
    "import matplotlib.pyplot as plt\n",
    "\n",
    "# Ensure 'Customer_Count' column exists if you followed the updated code\n",
    "sns.catplot(y='Customer_Count', x='Invoice_Date', data=MostCust, aspect=2, color='blue', kind='bar')\n",
    "\n",
    "plt.title('Top 10 Days When Most Customers Ordered Items')\n",
    "plt.ylabel('No. of Customers')\n",
    "plt.xlabel('Invoice Date')  # Add x-axis label for clarity\n",
    "plt.xticks(rotation=45)     # Rotate x-axis labels for better readability\n",
    "plt.show()\n"
   ]
  },
  {
   "cell_type": "code",
   "execution_count": null,
   "id": "43a6db70",
   "metadata": {},
   "outputs": [],
   "source": [
    "Yearly_Sales =  sales_data02[['Custkey','Item','Invoice Date','Invoice_Year','Invoice_Month',\n",
    "                            'Sales Quantity', 'Sales Amount Based on List Price','Discount Amount',\n",
    "                           'Sales Amount', 'Sales Margin Amount','Sales Cost Amount','Sales Rep','U/M','List Price',\n",
    "                           'Sales Price']]\n"
   ]
  },
  {
   "cell_type": "code",
   "execution_count": null,
   "id": "f17c2c07",
   "metadata": {
    "scrolled": false
   },
   "outputs": [],
   "source": [
    "import seaborn as sns\n",
    "import matplotlib.pyplot as plt\n",
    "\n",
    "# Ensure 'Invoice_Year' is properly set as a column and convert it to numeric if necessary\n",
    "Yearly_Sales['Invoice_Year'] = Yearly_Sales['Invoice_Year'].astype(int)\n",
    "\n",
    "# Drop non-numeric columns for the aggregation\n",
    "numeric_columns = ['Sales Amount']  # Add other numeric columns if needed\n",
    "Yearly_Sales_numeric = Yearly_Sales[numeric_columns + ['Invoice_Year']]\n",
    "\n",
    "# Group by 'Invoice_Year' and sum the 'Sales Amount'\n",
    "Yearly_Sales01 = Yearly_Sales_numeric.groupby('Invoice_Year').sum().reset_index()\n",
    "\n",
    "# Create the bar plot\n",
    "sns.catplot(\n",
    "    y='Sales Amount', \n",
    "    x='Invoice_Year', \n",
    "    data=Yearly_Sales01, \n",
    "    color='blue', \n",
    "    kind='bar',\n",
    "    aspect=2  # Aspect ratio to adjust the size\n",
    ")\n",
    "\n",
    "# Add labels and title\n",
    "plt.xlabel('Year')\n",
    "plt.ylabel('Sales Amount')\n",
    "plt.title('Yearly Sales')\n",
    "\n",
    "# Show the plot\n",
    "plt.show()\n",
    "\n",
    "# Display the DataFrame\n",
    "Yearly_Sales01[['Invoice_Year', 'Sales Amount']]\n"
   ]
  },
  {
   "cell_type": "code",
   "execution_count": null,
   "id": "6bdeaa1c",
   "metadata": {},
   "outputs": [],
   "source": [
    "import matplotlib.pyplot as plt\n",
    "import seaborn as sns\n",
    "\n",
    "# Grouping the data\n",
    "grouped_data = sales_data02.groupby(['Invoice Date', 'Invoice_Year', 'Invoice_Month']).sum().reset_index()\n",
    "\n",
    "# Set the figure size\n",
    "plt.figure(figsize=(15, 5))\n",
    "\n",
    "# Create the line plot with no markers or extra features\n",
    "sns.lineplot(y='Sales Amount', x='Invoice_Month', data=grouped_data, \n",
    "             hue='Invoice_Year', palette='bright', legend=False)  # Remove legend for clarity\n",
    "\n",
    "# Improve plot clarity:\n",
    "plt.xlabel('Invoice Month', fontsize=12)\n",
    "plt.ylabel('Sales Amount', fontsize=12)\n",
    "plt.title('Sales Trends Over Different Months by Year', fontsize=14)\n",
    "\n",
    "# Remove any grid or shadow for a cleaner look\n",
    "plt.grid(False)\n",
    "\n",
    "# Display the plot\n",
    "plt.show()\n"
   ]
  },
  {
   "cell_type": "markdown",
   "id": "a94c948a",
   "metadata": {},
   "source": [
    "### Obseravtions:\n",
    "*  From this plot, it is clear that Sales decreased continuously & then it started to increase from 2018 to 2019."
   ]
  },
  {
   "cell_type": "code",
   "execution_count": null,
   "id": "fb386ec5",
   "metadata": {},
   "outputs": [],
   "source": [
    "#Plotting Piechart to know Sales Share among 3 years\n",
    "plt.figure(figsize=(17,6))\n",
    "plt.pie('Sales Amount',labels='Invoice_Year',data=Yearly_Sales01,\n",
    "        autopct='%1.2f%%',shadow=True,startangle=90)\n",
    "plt.axis('equal')\n",
    "plt.title('Sales Contribution')\n",
    "plt.legend(round(Yearly_Sales01['Sales Amount'],2), loc=7, fontsize = 'xx-large')\n",
    "plt.show()"
   ]
  },
  {
   "cell_type": "markdown",
   "id": "43245e5b",
   "metadata": {},
   "source": [
    "## Monthly Records: "
   ]
  },
  {
   "cell_type": "code",
   "execution_count": null,
   "id": "585bb55f",
   "metadata": {
    "scrolled": true
   },
   "outputs": [],
   "source": [
    "import pandas as pd\n",
    "\n",
    "# Ensure numeric columns are correctly typed\n",
    "sales_data02['Sales Quantity'] = pd.to_numeric(sales_data02['Sales Quantity'], errors='coerce')\n",
    "sales_data02['Sales Amount'] = pd.to_numeric(sales_data02['Sales Amount'], errors='coerce')\n",
    "\n",
    "# Group by Year, Month, and Day, then sum only numeric columns\n",
    "Monthly_sales = sales_data02.groupby(['Invoice_Year', 'Invoice_Month', 'Invoice_Day']).sum(numeric_only=True).reset_index()\n",
    "\n",
    "# Get a statistical summary of the numeric columns\n",
    "summary_stats = Monthly_sales.describe()\n",
    "\n",
    "# Display the summary statistics\n",
    "print(summary_stats)\n"
   ]
  },
  {
   "cell_type": "code",
   "execution_count": null,
   "id": "244b485a",
   "metadata": {},
   "outputs": [],
   "source": [
    "sales_data.columns"
   ]
  },
  {
   "cell_type": "code",
   "execution_count": null,
   "id": "80d2be6f",
   "metadata": {
    "scrolled": false
   },
   "outputs": [],
   "source": [
    "import seaborn as sns\n",
    "import matplotlib.pyplot as plt\n",
    "\n",
    "# Ensure Yearly_Sales01 DataFrame is prepared correctly\n",
    "Yearly_Sales01 = sales_data02.groupby('Invoice_Year').sum(numeric_only=True).reset_index()\n",
    "\n",
    "# Create the bar plot\n",
    "sns.catplot(\n",
    "    y='Sales Margin Amount', \n",
    "    x='Invoice_Year', \n",
    "    data=Yearly_Sales01,\n",
    "    kind=\"bar\",\n",
    "    palette='coolwarm'  # You can adjust the palette as needed\n",
    ")\n",
    "\n",
    "plt.xlabel('Year')\n",
    "plt.ylabel('Sales Margin Amount')\n",
    "plt.title('Yearly Profits')\n",
    "\n",
    "# Show the plot\n",
    "plt.show()\n",
    "\n",
    "# Display the relevant columns of the DataFrame\n",
    "print(Yearly_Sales01[['Invoice_Year', 'Sales Margin Amount']])\n"
   ]
  },
  {
   "cell_type": "code",
   "execution_count": null,
   "id": "452c8e48",
   "metadata": {
    "scrolled": false
   },
   "outputs": [],
   "source": [
    "plt.figure(figsize=(10,6))\n",
    "plt.pie('Sales Margin Amount',labels='Invoice_Year',data=Yearly_Sales01[['Invoice_Year', 'Sales Margin Amount']],\n",
    "        autopct='%1.2f%%',shadow=True,startangle=90)\n",
    "plt.axis('equal')\n",
    "plt.title('Profit Share')\n",
    "plt.show()"
   ]
  },
  {
   "cell_type": "markdown",
   "id": "7c238d3e",
   "metadata": {},
   "source": [
    "## Yearly Month wise Records:"
   ]
  },
  {
   "cell_type": "code",
   "execution_count": null,
   "id": "3542023b",
   "metadata": {
    "scrolled": true
   },
   "outputs": [],
   "source": [
    "sns.relplot(x ='Invoice_Month',y = 'Sales Margin Amount', data=Yearly_Monthwise_Sales,height=5,\n",
    "            kind = 'line', aspect = 1, col = 'Invoice_Year')\n",
    "plt.xlabel('Month')\n",
    "plt.ylabel('Sales Margin Amount')\n",
    "print('*'*40+'Yearly-Month-wise Total Sales Margin Trend'+'*'*40)"
   ]
  },
  {
   "cell_type": "code",
   "execution_count": null,
   "id": "edbf6f14",
   "metadata": {},
   "outputs": [],
   "source": [
    "# Filter data for the year 2017\n",
    "Top10byCustKey17 = Yearly_Sales[Yearly_Sales['Invoice_Year'] == 2017]\n",
    "\n",
    "# Group by 'Invoice_Year' and 'Custkey', and sum the numeric columns\n",
    "Top10byCustKey17 = Top10byCustKey17.groupby(['Invoice_Year', 'Custkey']).sum(numeric_only=True)\n",
    "\n",
    "# Sort by 'Sales Margin Amount' in descending order and get the top 10\n",
    "Top10byCustKey17 = Top10byCustKey17.sort_values('Sales Margin Amount', ascending=False).reset_index().head(10)\n",
    "\n",
    "# Display the top 10 customers\n",
    "print(Top10byCustKey17)\n"
   ]
  },
  {
   "cell_type": "code",
   "execution_count": null,
   "id": "5c7dd385",
   "metadata": {},
   "outputs": [],
   "source": [
    "plt.figure(figsize=(10,5))\n",
    "sns.barplot(x='Custkey', y='Sales Margin Amount',data = Top10byCustkey18, palette = 'turbo',\n",
    "            order = Top10byCustkey18.Custkey)\n",
    "Top10byCustkey18[['Custkey', 'Sales Margin Amount']]"
   ]
  },
  {
   "cell_type": "markdown",
   "id": "8e66d7c5",
   "metadata": {},
   "source": [
    "###  Observations:\n",
    "* Among the 10 CustKey that generated the most Sales Margin Amount, `CustKey-10025039` contributed around 30.79% of the Sales Margin Amount."
   ]
  },
  {
   "cell_type": "code",
   "execution_count": null,
   "id": "7b3c1c7d",
   "metadata": {},
   "outputs": [],
   "source": [
    "# Verify column names first\n",
    "print(Yearly_Sales.columns)\n",
    "\n",
    "# Assuming 'Custkey' is the correct column name\n",
    "Top10byCustKey19 = Yearly_Sales[Yearly_Sales['Invoice_Year'] == 2019] \\\n",
    "    .groupby(['Invoice_Year', 'Custkey']) \\\n",
    "    .sum(numeric_only=True) \\\n",
    "    .sort_values('Sales Margin Amount', ascending=False) \\\n",
    "    .reset_index() \\\n",
    "    .head(10)\n",
    "\n",
    "# Plot the data\n",
    "plt.figure(figsize=(10, 5))\n",
    "sns.barplot(x='Custkey', y='Sales Margin Amount', data=Top10byCustKey19, palette='turbo', order=Top10byCustKey19['Custkey'])\n",
    "plt.xlabel('Custkey')\n",
    "plt.ylabel('Sales Margin Amount')\n",
    "plt.title('Top 10 Customers by Sales Margin Amount for 2019')\n",
    "plt.xticks(rotation=45)\n",
    "plt.show()\n",
    "\n",
    "# Display the data used for plotting\n",
    "print(Top10byCustKey19[['Custkey', 'Sales Margin Amount']])\n"
   ]
  },
  {
   "cell_type": "markdown",
   "id": "0cd5e8f5",
   "metadata": {},
   "source": [
    "###  Observations:\n",
    "* Among the 10 CustKey that generated the most Sales Margin Amount, `CustKey-10009676` contributed around 30.41% of the Sales Margin Amount."
   ]
  },
  {
   "cell_type": "code",
   "execution_count": null,
   "id": "108c8b55",
   "metadata": {},
   "outputs": [],
   "source": [
    "# Select numeric columns for summing\n",
    "numeric_columns = sales_data01.select_dtypes(include=['number']).columns\n",
    "\n",
    "# Group by 'Item' and sum only the numeric columns\n",
    "High_Profit = sales_data01.groupby('Item')[numeric_columns] \\\n",
    "    .sum() \\\n",
    "    .sort_values('Sales Margin Amount', ascending=False) \\\n",
    "    .reset_index()\n",
    "\n",
    "# Add a ranking column\n",
    "High_Profit['Rank'] = range(1, len(High_Profit) + 1)\n",
    "\n",
    "# Move 'Rank' to the beginning and adjust column names if needed\n",
    "High_Profit = High_Profit[['Rank'] + [col for col in High_Profit.columns if col != 'Rank']]\n",
    "\n",
    "# Display the DataFrame\n",
    "print(High_Profit)\n"
   ]
  },
  {
   "cell_type": "code",
   "execution_count": null,
   "id": "23d25af8",
   "metadata": {},
   "outputs": [],
   "source": [
    "plt.figure(figsize=(8,7))\n",
    "sns.barplot(x='Rank', y='Sales Margin Amount',data = High_Profit.head(10), palette = 'turbo')\n",
    "plt.legend(High_Profit['Item'].head(10))\n",
    "High_Profit[['Rank', 'Item', 'Sales Margin Amount']].head(10)"
   ]
  },
  {
   "cell_type": "markdown",
   "id": "9dde5f8f",
   "metadata": {},
   "source": [
    "###  Observations:\n",
    "* Item `Better Large Canned Shrimp` contributed around 19.21% of Sales Margin amount among the 10 Items that generated the most Sales Margin Amount."
   ]
  },
  {
   "cell_type": "code",
   "execution_count": null,
   "id": "66ffa948",
   "metadata": {},
   "outputs": [],
   "source": [
    "# Select numeric columns for summing\n",
    "numeric_columns = sales_data01.select_dtypes(include=['number']).columns\n",
    "\n",
    "# Group by 'Item' and sum only the numeric columns\n",
    "High_Sales = sales_data01.groupby('Item')[numeric_columns] \\\n",
    "    .sum() \\\n",
    "    .sort_values('Sales Amount', ascending=False) \\\n",
    "    .reset_index()\n",
    "\n",
    "# Add a ranking column\n",
    "High_Sales['Rank'] = range(1, len(High_Sales) + 1)\n",
    "\n",
    "# Reorder columns if necessary to move 'Rank' to the beginning\n",
    "High_Sales = High_Sales[['Rank'] + [col for col in High_Sales.columns if col != 'Rank']]\n",
    "\n",
    "# Display the DataFrame\n",
    "print(High_Sales)\n"
   ]
  },
  {
   "cell_type": "code",
   "execution_count": null,
   "id": "21ba8c2b",
   "metadata": {
    "scrolled": false
   },
   "outputs": [],
   "source": [
    "plt.figure(figsize=(10,7))\n",
    "sns.barplot(x='Rank', y='Sales Amount',data = High_Sales.head(10), palette = 'turbo')\n",
    "plt.legend(High_Sales['Item'].head(10))\n",
    "High_Sales[['Rank', 'Item', 'Sales Amount']].head(10)"
   ]
  },
  {
   "cell_type": "markdown",
   "id": "68edc644",
   "metadata": {},
   "source": [
    "###  Observations:\n",
    "* Item `Better Large Canned Shrimp` contributed around 22.11% of revenue among the 10 Items that generated the most revenue."
   ]
  },
  {
   "cell_type": "code",
   "execution_count": null,
   "id": "96389245",
   "metadata": {},
   "outputs": [],
   "source": [
    "# Select numeric columns for summing\n",
    "numeric_columns = sales_data01.select_dtypes(include=['number']).columns\n",
    "\n",
    "# Group by 'Item' and sum only the numeric columns\n",
    "High_SalesPrice = sales_data01.groupby('Item')[numeric_columns] \\\n",
    "    .sum() \\\n",
    "    .sort_values('Sales Price', ascending=False) \\\n",
    "    .reset_index()\n",
    "\n",
    "# Add a ranking column\n",
    "High_SalesPrice['Rank'] = range(1, len(High_SalesPrice) + 1)\n",
    "\n",
    "# Reorder columns if necessary to move 'Rank' to the beginning\n",
    "High_SalesPrice = High_SalesPrice[['Rank'] + [col for col in High_SalesPrice.columns if col != 'Rank']]\n",
    "\n",
    "# Display the DataFrame\n",
    "print(High_SalesPrice)\n"
   ]
  },
  {
   "cell_type": "markdown",
   "id": "d5664f0e",
   "metadata": {},
   "source": [
    "###  Observations:\n",
    "* Item `Better Fancy Canned Sardines` contributed around 18.43% of Sales Price among the 10 Items."
   ]
  },
  {
   "cell_type": "code",
   "execution_count": null,
   "id": "a487eb9b",
   "metadata": {},
   "outputs": [],
   "source": [
    "# Select numeric columns for summing\n",
    "numeric_columns = sales_data01.select_dtypes(include=['number']).columns\n",
    "\n",
    "# Group by 'Item' and sum only the numeric columns\n",
    "High_CostAmount = sales_data01.groupby('Item')[numeric_columns] \\\n",
    "    .sum() \\\n",
    "    .sort_values('Sales Cost Amount', ascending=False) \\\n",
    "    .reset_index()\n",
    "\n",
    "# Add a ranking column\n",
    "High_CostAmount['Rank'] = range(1, len(High_CostAmount) + 1)\n",
    "\n",
    "# Reorder columns if necessary to move 'Rank' to the beginning\n",
    "High_CostAmount = High_CostAmount[['Rank'] + [col for col in High_CostAmount.columns if col != 'Rank']]\n",
    "\n",
    "# Display the DataFrame\n",
    "print(High_CostAmount)\n"
   ]
  },
  {
   "cell_type": "markdown",
   "id": "47d078d1",
   "metadata": {},
   "source": [
    "###  Observations:\n",
    "* Item `Better Large Canned Shrimp` contributed around 23.82% of Sales Cost Amount among the 10 Items."
   ]
  }
 ],
 "metadata": {
  "direction": "ltr",
  "kernelspec": {
   "display_name": "Python 3",
   "language": "python",
   "name": "python3"
  },
  "language_info": {
   "codemirror_mode": {
    "name": "ipython",
    "version": 3
   },
   "file_extension": ".py",
   "mimetype": "text/x-python",
   "name": "python",
   "nbconvert_exporter": "python",
   "pygments_lexer": "ipython3",
   "version": "3.12.7"
  }
 },
 "nbformat": 4,
 "nbformat_minor": 5
}
